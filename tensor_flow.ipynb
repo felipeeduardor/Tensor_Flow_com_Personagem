{
  "cells": [
    {
      "cell_type": "markdown",
      "metadata": {
        "id": "0XU80CssjzNJ"
      },
      "source": [
        "# **Rede Neural com TensorFlow  - Com Personagens**"
      ]
    },
    {
      "cell_type": "markdown",
      "metadata": {
        "id": "27P2IZItkWe5"
      },
      "source": [
        "# Importação das Bibliotecas"
      ]
    },
    {
      "cell_type": "code",
      "execution_count": null,
      "metadata": {
        "colab": {
          "base_uri": "https://localhost:8080/",
          "height": 36
        },
        "id": "gQiFS3QCjtph",
        "outputId": "2ad2a1e6-a212-49a6-a38d-bf8a51d248e0"
      },
      "outputs": [
        {
          "output_type": "execute_result",
          "data": {
            "text/plain": [
              "'2.14.0'"
            ],
            "application/vnd.google.colaboratory.intrinsic+json": {
              "type": "string"
            }
          },
          "metadata": {},
          "execution_count": 1
        }
      ],
      "source": [
        "import tensorflow as tf\n",
        "import pandas as pd\n",
        "import numpy as np\n",
        "import seaborn as sns\n",
        "import matplotlib.pyplot as plt\n",
        "tf.__version__"
      ]
    },
    {
      "cell_type": "markdown",
      "metadata": {
        "id": "Ne8RIt5emiz4"
      },
      "source": [
        "# carregamento da base de dados"
      ]
    },
    {
      "cell_type": "code",
      "execution_count": null,
      "metadata": {
        "colab": {
          "base_uri": "https://localhost:8080/",
          "height": 423
        },
        "id": "6BiFJGlFmr6E",
        "outputId": "90436167-28b4-4deb-9d1e-65f6b3e2866b"
      },
      "outputs": [
        {
          "output_type": "execute_result",
          "data": {
            "text/plain": [
              "     laranja_camisa_bart  azul_calcao_bart  azul_sapato_bart  \\\n",
              "0               6.886102          3.495204          1.484984   \n",
              "1               5.004901          3.183889          1.000142   \n",
              "2               5.264620          5.029683          0.283567   \n",
              "3               0.000000          0.000000          0.000000   \n",
              "4               8.978929          3.459119          0.000000   \n",
              "..                   ...               ...               ...   \n",
              "288             0.000000          0.000000          0.000000   \n",
              "289             0.000000          0.000000          0.000000   \n",
              "290             0.000000          0.000000          0.000000   \n",
              "291             0.000000          0.000000          0.000000   \n",
              "292             0.000000          0.000000          0.000000   \n",
              "\n",
              "     marrom_boca_homer  azul_calca_homer  cinza_sapato_homer classe  \n",
              "0             0.000000          0.000000            0.062954   Bart  \n",
              "1             0.000000          0.000000            0.033024   Bart  \n",
              "2             0.000000          0.000000            0.151573   Bart  \n",
              "3             0.480168          0.000000            0.021164   Bart  \n",
              "4             0.000000          0.000000            0.011593   Bart  \n",
              "..                 ...               ...                 ...    ...  \n",
              "288           0.000000          6.485412            0.093921  Homer  \n",
              "289           0.000000          0.000000            0.042194  Homer  \n",
              "290           0.000000          4.263629            0.076761  Homer  \n",
              "291           0.000000          1.429134            0.017013  Homer  \n",
              "292          13.744248          0.853902            0.063546  Homer  \n",
              "\n",
              "[293 rows x 7 columns]"
            ],
            "text/html": [
              "\n",
              "  <div id=\"df-56c1fa6a-f3e0-4fc9-a0f4-9e11f96098a5\" class=\"colab-df-container\">\n",
              "    <div>\n",
              "<style scoped>\n",
              "    .dataframe tbody tr th:only-of-type {\n",
              "        vertical-align: middle;\n",
              "    }\n",
              "\n",
              "    .dataframe tbody tr th {\n",
              "        vertical-align: top;\n",
              "    }\n",
              "\n",
              "    .dataframe thead th {\n",
              "        text-align: right;\n",
              "    }\n",
              "</style>\n",
              "<table border=\"1\" class=\"dataframe\">\n",
              "  <thead>\n",
              "    <tr style=\"text-align: right;\">\n",
              "      <th></th>\n",
              "      <th>laranja_camisa_bart</th>\n",
              "      <th>azul_calcao_bart</th>\n",
              "      <th>azul_sapato_bart</th>\n",
              "      <th>marrom_boca_homer</th>\n",
              "      <th>azul_calca_homer</th>\n",
              "      <th>cinza_sapato_homer</th>\n",
              "      <th>classe</th>\n",
              "    </tr>\n",
              "  </thead>\n",
              "  <tbody>\n",
              "    <tr>\n",
              "      <th>0</th>\n",
              "      <td>6.886102</td>\n",
              "      <td>3.495204</td>\n",
              "      <td>1.484984</td>\n",
              "      <td>0.000000</td>\n",
              "      <td>0.000000</td>\n",
              "      <td>0.062954</td>\n",
              "      <td>Bart</td>\n",
              "    </tr>\n",
              "    <tr>\n",
              "      <th>1</th>\n",
              "      <td>5.004901</td>\n",
              "      <td>3.183889</td>\n",
              "      <td>1.000142</td>\n",
              "      <td>0.000000</td>\n",
              "      <td>0.000000</td>\n",
              "      <td>0.033024</td>\n",
              "      <td>Bart</td>\n",
              "    </tr>\n",
              "    <tr>\n",
              "      <th>2</th>\n",
              "      <td>5.264620</td>\n",
              "      <td>5.029683</td>\n",
              "      <td>0.283567</td>\n",
              "      <td>0.000000</td>\n",
              "      <td>0.000000</td>\n",
              "      <td>0.151573</td>\n",
              "      <td>Bart</td>\n",
              "    </tr>\n",
              "    <tr>\n",
              "      <th>3</th>\n",
              "      <td>0.000000</td>\n",
              "      <td>0.000000</td>\n",
              "      <td>0.000000</td>\n",
              "      <td>0.480168</td>\n",
              "      <td>0.000000</td>\n",
              "      <td>0.021164</td>\n",
              "      <td>Bart</td>\n",
              "    </tr>\n",
              "    <tr>\n",
              "      <th>4</th>\n",
              "      <td>8.978929</td>\n",
              "      <td>3.459119</td>\n",
              "      <td>0.000000</td>\n",
              "      <td>0.000000</td>\n",
              "      <td>0.000000</td>\n",
              "      <td>0.011593</td>\n",
              "      <td>Bart</td>\n",
              "    </tr>\n",
              "    <tr>\n",
              "      <th>...</th>\n",
              "      <td>...</td>\n",
              "      <td>...</td>\n",
              "      <td>...</td>\n",
              "      <td>...</td>\n",
              "      <td>...</td>\n",
              "      <td>...</td>\n",
              "      <td>...</td>\n",
              "    </tr>\n",
              "    <tr>\n",
              "      <th>288</th>\n",
              "      <td>0.000000</td>\n",
              "      <td>0.000000</td>\n",
              "      <td>0.000000</td>\n",
              "      <td>0.000000</td>\n",
              "      <td>6.485412</td>\n",
              "      <td>0.093921</td>\n",
              "      <td>Homer</td>\n",
              "    </tr>\n",
              "    <tr>\n",
              "      <th>289</th>\n",
              "      <td>0.000000</td>\n",
              "      <td>0.000000</td>\n",
              "      <td>0.000000</td>\n",
              "      <td>0.000000</td>\n",
              "      <td>0.000000</td>\n",
              "      <td>0.042194</td>\n",
              "      <td>Homer</td>\n",
              "    </tr>\n",
              "    <tr>\n",
              "      <th>290</th>\n",
              "      <td>0.000000</td>\n",
              "      <td>0.000000</td>\n",
              "      <td>0.000000</td>\n",
              "      <td>0.000000</td>\n",
              "      <td>4.263629</td>\n",
              "      <td>0.076761</td>\n",
              "      <td>Homer</td>\n",
              "    </tr>\n",
              "    <tr>\n",
              "      <th>291</th>\n",
              "      <td>0.000000</td>\n",
              "      <td>0.000000</td>\n",
              "      <td>0.000000</td>\n",
              "      <td>0.000000</td>\n",
              "      <td>1.429134</td>\n",
              "      <td>0.017013</td>\n",
              "      <td>Homer</td>\n",
              "    </tr>\n",
              "    <tr>\n",
              "      <th>292</th>\n",
              "      <td>0.000000</td>\n",
              "      <td>0.000000</td>\n",
              "      <td>0.000000</td>\n",
              "      <td>13.744248</td>\n",
              "      <td>0.853902</td>\n",
              "      <td>0.063546</td>\n",
              "      <td>Homer</td>\n",
              "    </tr>\n",
              "  </tbody>\n",
              "</table>\n",
              "<p>293 rows × 7 columns</p>\n",
              "</div>\n",
              "    <div class=\"colab-df-buttons\">\n",
              "\n",
              "  <div class=\"colab-df-container\">\n",
              "    <button class=\"colab-df-convert\" onclick=\"convertToInteractive('df-56c1fa6a-f3e0-4fc9-a0f4-9e11f96098a5')\"\n",
              "            title=\"Convert this dataframe to an interactive table.\"\n",
              "            style=\"display:none;\">\n",
              "\n",
              "  <svg xmlns=\"http://www.w3.org/2000/svg\" height=\"24px\" viewBox=\"0 -960 960 960\">\n",
              "    <path d=\"M120-120v-720h720v720H120Zm60-500h600v-160H180v160Zm220 220h160v-160H400v160Zm0 220h160v-160H400v160ZM180-400h160v-160H180v160Zm440 0h160v-160H620v160ZM180-180h160v-160H180v160Zm440 0h160v-160H620v160Z\"/>\n",
              "  </svg>\n",
              "    </button>\n",
              "\n",
              "  <style>\n",
              "    .colab-df-container {\n",
              "      display:flex;\n",
              "      gap: 12px;\n",
              "    }\n",
              "\n",
              "    .colab-df-convert {\n",
              "      background-color: #E8F0FE;\n",
              "      border: none;\n",
              "      border-radius: 50%;\n",
              "      cursor: pointer;\n",
              "      display: none;\n",
              "      fill: #1967D2;\n",
              "      height: 32px;\n",
              "      padding: 0 0 0 0;\n",
              "      width: 32px;\n",
              "    }\n",
              "\n",
              "    .colab-df-convert:hover {\n",
              "      background-color: #E2EBFA;\n",
              "      box-shadow: 0px 1px 2px rgba(60, 64, 67, 0.3), 0px 1px 3px 1px rgba(60, 64, 67, 0.15);\n",
              "      fill: #174EA6;\n",
              "    }\n",
              "\n",
              "    .colab-df-buttons div {\n",
              "      margin-bottom: 4px;\n",
              "    }\n",
              "\n",
              "    [theme=dark] .colab-df-convert {\n",
              "      background-color: #3B4455;\n",
              "      fill: #D2E3FC;\n",
              "    }\n",
              "\n",
              "    [theme=dark] .colab-df-convert:hover {\n",
              "      background-color: #434B5C;\n",
              "      box-shadow: 0px 1px 3px 1px rgba(0, 0, 0, 0.15);\n",
              "      filter: drop-shadow(0px 1px 2px rgba(0, 0, 0, 0.3));\n",
              "      fill: #FFFFFF;\n",
              "    }\n",
              "  </style>\n",
              "\n",
              "    <script>\n",
              "      const buttonEl =\n",
              "        document.querySelector('#df-56c1fa6a-f3e0-4fc9-a0f4-9e11f96098a5 button.colab-df-convert');\n",
              "      buttonEl.style.display =\n",
              "        google.colab.kernel.accessAllowed ? 'block' : 'none';\n",
              "\n",
              "      async function convertToInteractive(key) {\n",
              "        const element = document.querySelector('#df-56c1fa6a-f3e0-4fc9-a0f4-9e11f96098a5');\n",
              "        const dataTable =\n",
              "          await google.colab.kernel.invokeFunction('convertToInteractive',\n",
              "                                                    [key], {});\n",
              "        if (!dataTable) return;\n",
              "\n",
              "        const docLinkHtml = 'Like what you see? Visit the ' +\n",
              "          '<a target=\"_blank\" href=https://colab.research.google.com/notebooks/data_table.ipynb>data table notebook</a>'\n",
              "          + ' to learn more about interactive tables.';\n",
              "        element.innerHTML = '';\n",
              "        dataTable['output_type'] = 'display_data';\n",
              "        await google.colab.output.renderOutput(dataTable, element);\n",
              "        const docLink = document.createElement('div');\n",
              "        docLink.innerHTML = docLinkHtml;\n",
              "        element.appendChild(docLink);\n",
              "      }\n",
              "    </script>\n",
              "  </div>\n",
              "\n",
              "\n",
              "<div id=\"df-f934d9c7-6085-4448-8ca2-695c36bf497d\">\n",
              "  <button class=\"colab-df-quickchart\" onclick=\"quickchart('df-f934d9c7-6085-4448-8ca2-695c36bf497d')\"\n",
              "            title=\"Suggest charts.\"\n",
              "            style=\"display:none;\">\n",
              "\n",
              "<svg xmlns=\"http://www.w3.org/2000/svg\" height=\"24px\"viewBox=\"0 0 24 24\"\n",
              "     width=\"24px\">\n",
              "    <g>\n",
              "        <path d=\"M19 3H5c-1.1 0-2 .9-2 2v14c0 1.1.9 2 2 2h14c1.1 0 2-.9 2-2V5c0-1.1-.9-2-2-2zM9 17H7v-7h2v7zm4 0h-2V7h2v10zm4 0h-2v-4h2v4z\"/>\n",
              "    </g>\n",
              "</svg>\n",
              "  </button>\n",
              "\n",
              "<style>\n",
              "  .colab-df-quickchart {\n",
              "      --bg-color: #E8F0FE;\n",
              "      --fill-color: #1967D2;\n",
              "      --hover-bg-color: #E2EBFA;\n",
              "      --hover-fill-color: #174EA6;\n",
              "      --disabled-fill-color: #AAA;\n",
              "      --disabled-bg-color: #DDD;\n",
              "  }\n",
              "\n",
              "  [theme=dark] .colab-df-quickchart {\n",
              "      --bg-color: #3B4455;\n",
              "      --fill-color: #D2E3FC;\n",
              "      --hover-bg-color: #434B5C;\n",
              "      --hover-fill-color: #FFFFFF;\n",
              "      --disabled-bg-color: #3B4455;\n",
              "      --disabled-fill-color: #666;\n",
              "  }\n",
              "\n",
              "  .colab-df-quickchart {\n",
              "    background-color: var(--bg-color);\n",
              "    border: none;\n",
              "    border-radius: 50%;\n",
              "    cursor: pointer;\n",
              "    display: none;\n",
              "    fill: var(--fill-color);\n",
              "    height: 32px;\n",
              "    padding: 0;\n",
              "    width: 32px;\n",
              "  }\n",
              "\n",
              "  .colab-df-quickchart:hover {\n",
              "    background-color: var(--hover-bg-color);\n",
              "    box-shadow: 0 1px 2px rgba(60, 64, 67, 0.3), 0 1px 3px 1px rgba(60, 64, 67, 0.15);\n",
              "    fill: var(--button-hover-fill-color);\n",
              "  }\n",
              "\n",
              "  .colab-df-quickchart-complete:disabled,\n",
              "  .colab-df-quickchart-complete:disabled:hover {\n",
              "    background-color: var(--disabled-bg-color);\n",
              "    fill: var(--disabled-fill-color);\n",
              "    box-shadow: none;\n",
              "  }\n",
              "\n",
              "  .colab-df-spinner {\n",
              "    border: 2px solid var(--fill-color);\n",
              "    border-color: transparent;\n",
              "    border-bottom-color: var(--fill-color);\n",
              "    animation:\n",
              "      spin 1s steps(1) infinite;\n",
              "  }\n",
              "\n",
              "  @keyframes spin {\n",
              "    0% {\n",
              "      border-color: transparent;\n",
              "      border-bottom-color: var(--fill-color);\n",
              "      border-left-color: var(--fill-color);\n",
              "    }\n",
              "    20% {\n",
              "      border-color: transparent;\n",
              "      border-left-color: var(--fill-color);\n",
              "      border-top-color: var(--fill-color);\n",
              "    }\n",
              "    30% {\n",
              "      border-color: transparent;\n",
              "      border-left-color: var(--fill-color);\n",
              "      border-top-color: var(--fill-color);\n",
              "      border-right-color: var(--fill-color);\n",
              "    }\n",
              "    40% {\n",
              "      border-color: transparent;\n",
              "      border-right-color: var(--fill-color);\n",
              "      border-top-color: var(--fill-color);\n",
              "    }\n",
              "    60% {\n",
              "      border-color: transparent;\n",
              "      border-right-color: var(--fill-color);\n",
              "    }\n",
              "    80% {\n",
              "      border-color: transparent;\n",
              "      border-right-color: var(--fill-color);\n",
              "      border-bottom-color: var(--fill-color);\n",
              "    }\n",
              "    90% {\n",
              "      border-color: transparent;\n",
              "      border-bottom-color: var(--fill-color);\n",
              "    }\n",
              "  }\n",
              "</style>\n",
              "\n",
              "  <script>\n",
              "    async function quickchart(key) {\n",
              "      const quickchartButtonEl =\n",
              "        document.querySelector('#' + key + ' button');\n",
              "      quickchartButtonEl.disabled = true;  // To prevent multiple clicks.\n",
              "      quickchartButtonEl.classList.add('colab-df-spinner');\n",
              "      try {\n",
              "        const charts = await google.colab.kernel.invokeFunction(\n",
              "            'suggestCharts', [key], {});\n",
              "      } catch (error) {\n",
              "        console.error('Error during call to suggestCharts:', error);\n",
              "      }\n",
              "      quickchartButtonEl.classList.remove('colab-df-spinner');\n",
              "      quickchartButtonEl.classList.add('colab-df-quickchart-complete');\n",
              "    }\n",
              "    (() => {\n",
              "      let quickchartButtonEl =\n",
              "        document.querySelector('#df-f934d9c7-6085-4448-8ca2-695c36bf497d button');\n",
              "      quickchartButtonEl.style.display =\n",
              "        google.colab.kernel.accessAllowed ? 'block' : 'none';\n",
              "    })();\n",
              "  </script>\n",
              "</div>\n",
              "    </div>\n",
              "  </div>\n"
            ]
          },
          "metadata": {},
          "execution_count": 2
        }
      ],
      "source": [
        "dataset = pd.read_csv('simpsons.csv')\n",
        "dataset"
      ]
    },
    {
      "cell_type": "code",
      "execution_count": null,
      "metadata": {
        "colab": {
          "base_uri": "https://localhost:8080/"
        },
        "id": "azEtFunVqVM7",
        "outputId": "ce046d95-b62c-44cd-b822-db71cd695869"
      },
      "outputs": [
        {
          "output_type": "execute_result",
          "data": {
            "text/plain": [
              "(293, 7)"
            ]
          },
          "metadata": {},
          "execution_count": 3
        }
      ],
      "source": [
        "dataset.shape"
      ]
    },
    {
      "cell_type": "code",
      "execution_count": null,
      "metadata": {
        "colab": {
          "base_uri": "https://localhost:8080/",
          "height": 206
        },
        "id": "viA8Re50u3aZ",
        "outputId": "d33dccdc-f554-438f-8ed6-28d50f8a6d74"
      },
      "outputs": [
        {
          "output_type": "execute_result",
          "data": {
            "text/plain": [
              "   laranja_camisa_bart  azul_calcao_bart  azul_sapato_bart  marrom_boca_homer  \\\n",
              "0             6.886102          3.495204          1.484984           0.000000   \n",
              "1             5.004901          3.183889          1.000142           0.000000   \n",
              "2             5.264620          5.029683          0.283567           0.000000   \n",
              "3             0.000000          0.000000          0.000000           0.480168   \n",
              "4             8.978929          3.459119          0.000000           0.000000   \n",
              "\n",
              "   azul_calca_homer  cinza_sapato_homer classe  \n",
              "0               0.0            0.062954   Bart  \n",
              "1               0.0            0.033024   Bart  \n",
              "2               0.0            0.151573   Bart  \n",
              "3               0.0            0.021164   Bart  \n",
              "4               0.0            0.011593   Bart  "
            ],
            "text/html": [
              "\n",
              "  <div id=\"df-8cc40f92-8e93-4e8a-bbb4-c2fd2923013d\" class=\"colab-df-container\">\n",
              "    <div>\n",
              "<style scoped>\n",
              "    .dataframe tbody tr th:only-of-type {\n",
              "        vertical-align: middle;\n",
              "    }\n",
              "\n",
              "    .dataframe tbody tr th {\n",
              "        vertical-align: top;\n",
              "    }\n",
              "\n",
              "    .dataframe thead th {\n",
              "        text-align: right;\n",
              "    }\n",
              "</style>\n",
              "<table border=\"1\" class=\"dataframe\">\n",
              "  <thead>\n",
              "    <tr style=\"text-align: right;\">\n",
              "      <th></th>\n",
              "      <th>laranja_camisa_bart</th>\n",
              "      <th>azul_calcao_bart</th>\n",
              "      <th>azul_sapato_bart</th>\n",
              "      <th>marrom_boca_homer</th>\n",
              "      <th>azul_calca_homer</th>\n",
              "      <th>cinza_sapato_homer</th>\n",
              "      <th>classe</th>\n",
              "    </tr>\n",
              "  </thead>\n",
              "  <tbody>\n",
              "    <tr>\n",
              "      <th>0</th>\n",
              "      <td>6.886102</td>\n",
              "      <td>3.495204</td>\n",
              "      <td>1.484984</td>\n",
              "      <td>0.000000</td>\n",
              "      <td>0.0</td>\n",
              "      <td>0.062954</td>\n",
              "      <td>Bart</td>\n",
              "    </tr>\n",
              "    <tr>\n",
              "      <th>1</th>\n",
              "      <td>5.004901</td>\n",
              "      <td>3.183889</td>\n",
              "      <td>1.000142</td>\n",
              "      <td>0.000000</td>\n",
              "      <td>0.0</td>\n",
              "      <td>0.033024</td>\n",
              "      <td>Bart</td>\n",
              "    </tr>\n",
              "    <tr>\n",
              "      <th>2</th>\n",
              "      <td>5.264620</td>\n",
              "      <td>5.029683</td>\n",
              "      <td>0.283567</td>\n",
              "      <td>0.000000</td>\n",
              "      <td>0.0</td>\n",
              "      <td>0.151573</td>\n",
              "      <td>Bart</td>\n",
              "    </tr>\n",
              "    <tr>\n",
              "      <th>3</th>\n",
              "      <td>0.000000</td>\n",
              "      <td>0.000000</td>\n",
              "      <td>0.000000</td>\n",
              "      <td>0.480168</td>\n",
              "      <td>0.0</td>\n",
              "      <td>0.021164</td>\n",
              "      <td>Bart</td>\n",
              "    </tr>\n",
              "    <tr>\n",
              "      <th>4</th>\n",
              "      <td>8.978929</td>\n",
              "      <td>3.459119</td>\n",
              "      <td>0.000000</td>\n",
              "      <td>0.000000</td>\n",
              "      <td>0.0</td>\n",
              "      <td>0.011593</td>\n",
              "      <td>Bart</td>\n",
              "    </tr>\n",
              "  </tbody>\n",
              "</table>\n",
              "</div>\n",
              "    <div class=\"colab-df-buttons\">\n",
              "\n",
              "  <div class=\"colab-df-container\">\n",
              "    <button class=\"colab-df-convert\" onclick=\"convertToInteractive('df-8cc40f92-8e93-4e8a-bbb4-c2fd2923013d')\"\n",
              "            title=\"Convert this dataframe to an interactive table.\"\n",
              "            style=\"display:none;\">\n",
              "\n",
              "  <svg xmlns=\"http://www.w3.org/2000/svg\" height=\"24px\" viewBox=\"0 -960 960 960\">\n",
              "    <path d=\"M120-120v-720h720v720H120Zm60-500h600v-160H180v160Zm220 220h160v-160H400v160Zm0 220h160v-160H400v160ZM180-400h160v-160H180v160Zm440 0h160v-160H620v160ZM180-180h160v-160H180v160Zm440 0h160v-160H620v160Z\"/>\n",
              "  </svg>\n",
              "    </button>\n",
              "\n",
              "  <style>\n",
              "    .colab-df-container {\n",
              "      display:flex;\n",
              "      gap: 12px;\n",
              "    }\n",
              "\n",
              "    .colab-df-convert {\n",
              "      background-color: #E8F0FE;\n",
              "      border: none;\n",
              "      border-radius: 50%;\n",
              "      cursor: pointer;\n",
              "      display: none;\n",
              "      fill: #1967D2;\n",
              "      height: 32px;\n",
              "      padding: 0 0 0 0;\n",
              "      width: 32px;\n",
              "    }\n",
              "\n",
              "    .colab-df-convert:hover {\n",
              "      background-color: #E2EBFA;\n",
              "      box-shadow: 0px 1px 2px rgba(60, 64, 67, 0.3), 0px 1px 3px 1px rgba(60, 64, 67, 0.15);\n",
              "      fill: #174EA6;\n",
              "    }\n",
              "\n",
              "    .colab-df-buttons div {\n",
              "      margin-bottom: 4px;\n",
              "    }\n",
              "\n",
              "    [theme=dark] .colab-df-convert {\n",
              "      background-color: #3B4455;\n",
              "      fill: #D2E3FC;\n",
              "    }\n",
              "\n",
              "    [theme=dark] .colab-df-convert:hover {\n",
              "      background-color: #434B5C;\n",
              "      box-shadow: 0px 1px 3px 1px rgba(0, 0, 0, 0.15);\n",
              "      filter: drop-shadow(0px 1px 2px rgba(0, 0, 0, 0.3));\n",
              "      fill: #FFFFFF;\n",
              "    }\n",
              "  </style>\n",
              "\n",
              "    <script>\n",
              "      const buttonEl =\n",
              "        document.querySelector('#df-8cc40f92-8e93-4e8a-bbb4-c2fd2923013d button.colab-df-convert');\n",
              "      buttonEl.style.display =\n",
              "        google.colab.kernel.accessAllowed ? 'block' : 'none';\n",
              "\n",
              "      async function convertToInteractive(key) {\n",
              "        const element = document.querySelector('#df-8cc40f92-8e93-4e8a-bbb4-c2fd2923013d');\n",
              "        const dataTable =\n",
              "          await google.colab.kernel.invokeFunction('convertToInteractive',\n",
              "                                                    [key], {});\n",
              "        if (!dataTable) return;\n",
              "\n",
              "        const docLinkHtml = 'Like what you see? Visit the ' +\n",
              "          '<a target=\"_blank\" href=https://colab.research.google.com/notebooks/data_table.ipynb>data table notebook</a>'\n",
              "          + ' to learn more about interactive tables.';\n",
              "        element.innerHTML = '';\n",
              "        dataTable['output_type'] = 'display_data';\n",
              "        await google.colab.output.renderOutput(dataTable, element);\n",
              "        const docLink = document.createElement('div');\n",
              "        docLink.innerHTML = docLinkHtml;\n",
              "        element.appendChild(docLink);\n",
              "      }\n",
              "    </script>\n",
              "  </div>\n",
              "\n",
              "\n",
              "<div id=\"df-c6baae43-e53c-4281-a6a6-2a37d007a998\">\n",
              "  <button class=\"colab-df-quickchart\" onclick=\"quickchart('df-c6baae43-e53c-4281-a6a6-2a37d007a998')\"\n",
              "            title=\"Suggest charts.\"\n",
              "            style=\"display:none;\">\n",
              "\n",
              "<svg xmlns=\"http://www.w3.org/2000/svg\" height=\"24px\"viewBox=\"0 0 24 24\"\n",
              "     width=\"24px\">\n",
              "    <g>\n",
              "        <path d=\"M19 3H5c-1.1 0-2 .9-2 2v14c0 1.1.9 2 2 2h14c1.1 0 2-.9 2-2V5c0-1.1-.9-2-2-2zM9 17H7v-7h2v7zm4 0h-2V7h2v10zm4 0h-2v-4h2v4z\"/>\n",
              "    </g>\n",
              "</svg>\n",
              "  </button>\n",
              "\n",
              "<style>\n",
              "  .colab-df-quickchart {\n",
              "      --bg-color: #E8F0FE;\n",
              "      --fill-color: #1967D2;\n",
              "      --hover-bg-color: #E2EBFA;\n",
              "      --hover-fill-color: #174EA6;\n",
              "      --disabled-fill-color: #AAA;\n",
              "      --disabled-bg-color: #DDD;\n",
              "  }\n",
              "\n",
              "  [theme=dark] .colab-df-quickchart {\n",
              "      --bg-color: #3B4455;\n",
              "      --fill-color: #D2E3FC;\n",
              "      --hover-bg-color: #434B5C;\n",
              "      --hover-fill-color: #FFFFFF;\n",
              "      --disabled-bg-color: #3B4455;\n",
              "      --disabled-fill-color: #666;\n",
              "  }\n",
              "\n",
              "  .colab-df-quickchart {\n",
              "    background-color: var(--bg-color);\n",
              "    border: none;\n",
              "    border-radius: 50%;\n",
              "    cursor: pointer;\n",
              "    display: none;\n",
              "    fill: var(--fill-color);\n",
              "    height: 32px;\n",
              "    padding: 0;\n",
              "    width: 32px;\n",
              "  }\n",
              "\n",
              "  .colab-df-quickchart:hover {\n",
              "    background-color: var(--hover-bg-color);\n",
              "    box-shadow: 0 1px 2px rgba(60, 64, 67, 0.3), 0 1px 3px 1px rgba(60, 64, 67, 0.15);\n",
              "    fill: var(--button-hover-fill-color);\n",
              "  }\n",
              "\n",
              "  .colab-df-quickchart-complete:disabled,\n",
              "  .colab-df-quickchart-complete:disabled:hover {\n",
              "    background-color: var(--disabled-bg-color);\n",
              "    fill: var(--disabled-fill-color);\n",
              "    box-shadow: none;\n",
              "  }\n",
              "\n",
              "  .colab-df-spinner {\n",
              "    border: 2px solid var(--fill-color);\n",
              "    border-color: transparent;\n",
              "    border-bottom-color: var(--fill-color);\n",
              "    animation:\n",
              "      spin 1s steps(1) infinite;\n",
              "  }\n",
              "\n",
              "  @keyframes spin {\n",
              "    0% {\n",
              "      border-color: transparent;\n",
              "      border-bottom-color: var(--fill-color);\n",
              "      border-left-color: var(--fill-color);\n",
              "    }\n",
              "    20% {\n",
              "      border-color: transparent;\n",
              "      border-left-color: var(--fill-color);\n",
              "      border-top-color: var(--fill-color);\n",
              "    }\n",
              "    30% {\n",
              "      border-color: transparent;\n",
              "      border-left-color: var(--fill-color);\n",
              "      border-top-color: var(--fill-color);\n",
              "      border-right-color: var(--fill-color);\n",
              "    }\n",
              "    40% {\n",
              "      border-color: transparent;\n",
              "      border-right-color: var(--fill-color);\n",
              "      border-top-color: var(--fill-color);\n",
              "    }\n",
              "    60% {\n",
              "      border-color: transparent;\n",
              "      border-right-color: var(--fill-color);\n",
              "    }\n",
              "    80% {\n",
              "      border-color: transparent;\n",
              "      border-right-color: var(--fill-color);\n",
              "      border-bottom-color: var(--fill-color);\n",
              "    }\n",
              "    90% {\n",
              "      border-color: transparent;\n",
              "      border-bottom-color: var(--fill-color);\n",
              "    }\n",
              "  }\n",
              "</style>\n",
              "\n",
              "  <script>\n",
              "    async function quickchart(key) {\n",
              "      const quickchartButtonEl =\n",
              "        document.querySelector('#' + key + ' button');\n",
              "      quickchartButtonEl.disabled = true;  // To prevent multiple clicks.\n",
              "      quickchartButtonEl.classList.add('colab-df-spinner');\n",
              "      try {\n",
              "        const charts = await google.colab.kernel.invokeFunction(\n",
              "            'suggestCharts', [key], {});\n",
              "      } catch (error) {\n",
              "        console.error('Error during call to suggestCharts:', error);\n",
              "      }\n",
              "      quickchartButtonEl.classList.remove('colab-df-spinner');\n",
              "      quickchartButtonEl.classList.add('colab-df-quickchart-complete');\n",
              "    }\n",
              "    (() => {\n",
              "      let quickchartButtonEl =\n",
              "        document.querySelector('#df-c6baae43-e53c-4281-a6a6-2a37d007a998 button');\n",
              "      quickchartButtonEl.style.display =\n",
              "        google.colab.kernel.accessAllowed ? 'block' : 'none';\n",
              "    })();\n",
              "  </script>\n",
              "</div>\n",
              "    </div>\n",
              "  </div>\n"
            ]
          },
          "metadata": {},
          "execution_count": 4
        }
      ],
      "source": [
        "dataset.head()"
      ]
    },
    {
      "cell_type": "code",
      "execution_count": null,
      "metadata": {
        "colab": {
          "base_uri": "https://localhost:8080/",
          "height": 206
        },
        "id": "Ua66Puk7nXnl",
        "outputId": "8437b7c7-e221-457c-c47e-d4f2add5ff72"
      },
      "outputs": [
        {
          "output_type": "execute_result",
          "data": {
            "text/plain": [
              "     laranja_camisa_bart  azul_calcao_bart  azul_sapato_bart  \\\n",
              "288                  0.0               0.0               0.0   \n",
              "289                  0.0               0.0               0.0   \n",
              "290                  0.0               0.0               0.0   \n",
              "291                  0.0               0.0               0.0   \n",
              "292                  0.0               0.0               0.0   \n",
              "\n",
              "     marrom_boca_homer  azul_calca_homer  cinza_sapato_homer classe  \n",
              "288           0.000000          6.485412            0.093921  Homer  \n",
              "289           0.000000          0.000000            0.042194  Homer  \n",
              "290           0.000000          4.263629            0.076761  Homer  \n",
              "291           0.000000          1.429134            0.017013  Homer  \n",
              "292          13.744248          0.853902            0.063546  Homer  "
            ],
            "text/html": [
              "\n",
              "  <div id=\"df-beaf4269-6628-4c14-9fbd-1016f366fbb6\" class=\"colab-df-container\">\n",
              "    <div>\n",
              "<style scoped>\n",
              "    .dataframe tbody tr th:only-of-type {\n",
              "        vertical-align: middle;\n",
              "    }\n",
              "\n",
              "    .dataframe tbody tr th {\n",
              "        vertical-align: top;\n",
              "    }\n",
              "\n",
              "    .dataframe thead th {\n",
              "        text-align: right;\n",
              "    }\n",
              "</style>\n",
              "<table border=\"1\" class=\"dataframe\">\n",
              "  <thead>\n",
              "    <tr style=\"text-align: right;\">\n",
              "      <th></th>\n",
              "      <th>laranja_camisa_bart</th>\n",
              "      <th>azul_calcao_bart</th>\n",
              "      <th>azul_sapato_bart</th>\n",
              "      <th>marrom_boca_homer</th>\n",
              "      <th>azul_calca_homer</th>\n",
              "      <th>cinza_sapato_homer</th>\n",
              "      <th>classe</th>\n",
              "    </tr>\n",
              "  </thead>\n",
              "  <tbody>\n",
              "    <tr>\n",
              "      <th>288</th>\n",
              "      <td>0.0</td>\n",
              "      <td>0.0</td>\n",
              "      <td>0.0</td>\n",
              "      <td>0.000000</td>\n",
              "      <td>6.485412</td>\n",
              "      <td>0.093921</td>\n",
              "      <td>Homer</td>\n",
              "    </tr>\n",
              "    <tr>\n",
              "      <th>289</th>\n",
              "      <td>0.0</td>\n",
              "      <td>0.0</td>\n",
              "      <td>0.0</td>\n",
              "      <td>0.000000</td>\n",
              "      <td>0.000000</td>\n",
              "      <td>0.042194</td>\n",
              "      <td>Homer</td>\n",
              "    </tr>\n",
              "    <tr>\n",
              "      <th>290</th>\n",
              "      <td>0.0</td>\n",
              "      <td>0.0</td>\n",
              "      <td>0.0</td>\n",
              "      <td>0.000000</td>\n",
              "      <td>4.263629</td>\n",
              "      <td>0.076761</td>\n",
              "      <td>Homer</td>\n",
              "    </tr>\n",
              "    <tr>\n",
              "      <th>291</th>\n",
              "      <td>0.0</td>\n",
              "      <td>0.0</td>\n",
              "      <td>0.0</td>\n",
              "      <td>0.000000</td>\n",
              "      <td>1.429134</td>\n",
              "      <td>0.017013</td>\n",
              "      <td>Homer</td>\n",
              "    </tr>\n",
              "    <tr>\n",
              "      <th>292</th>\n",
              "      <td>0.0</td>\n",
              "      <td>0.0</td>\n",
              "      <td>0.0</td>\n",
              "      <td>13.744248</td>\n",
              "      <td>0.853902</td>\n",
              "      <td>0.063546</td>\n",
              "      <td>Homer</td>\n",
              "    </tr>\n",
              "  </tbody>\n",
              "</table>\n",
              "</div>\n",
              "    <div class=\"colab-df-buttons\">\n",
              "\n",
              "  <div class=\"colab-df-container\">\n",
              "    <button class=\"colab-df-convert\" onclick=\"convertToInteractive('df-beaf4269-6628-4c14-9fbd-1016f366fbb6')\"\n",
              "            title=\"Convert this dataframe to an interactive table.\"\n",
              "            style=\"display:none;\">\n",
              "\n",
              "  <svg xmlns=\"http://www.w3.org/2000/svg\" height=\"24px\" viewBox=\"0 -960 960 960\">\n",
              "    <path d=\"M120-120v-720h720v720H120Zm60-500h600v-160H180v160Zm220 220h160v-160H400v160Zm0 220h160v-160H400v160ZM180-400h160v-160H180v160Zm440 0h160v-160H620v160ZM180-180h160v-160H180v160Zm440 0h160v-160H620v160Z\"/>\n",
              "  </svg>\n",
              "    </button>\n",
              "\n",
              "  <style>\n",
              "    .colab-df-container {\n",
              "      display:flex;\n",
              "      gap: 12px;\n",
              "    }\n",
              "\n",
              "    .colab-df-convert {\n",
              "      background-color: #E8F0FE;\n",
              "      border: none;\n",
              "      border-radius: 50%;\n",
              "      cursor: pointer;\n",
              "      display: none;\n",
              "      fill: #1967D2;\n",
              "      height: 32px;\n",
              "      padding: 0 0 0 0;\n",
              "      width: 32px;\n",
              "    }\n",
              "\n",
              "    .colab-df-convert:hover {\n",
              "      background-color: #E2EBFA;\n",
              "      box-shadow: 0px 1px 2px rgba(60, 64, 67, 0.3), 0px 1px 3px 1px rgba(60, 64, 67, 0.15);\n",
              "      fill: #174EA6;\n",
              "    }\n",
              "\n",
              "    .colab-df-buttons div {\n",
              "      margin-bottom: 4px;\n",
              "    }\n",
              "\n",
              "    [theme=dark] .colab-df-convert {\n",
              "      background-color: #3B4455;\n",
              "      fill: #D2E3FC;\n",
              "    }\n",
              "\n",
              "    [theme=dark] .colab-df-convert:hover {\n",
              "      background-color: #434B5C;\n",
              "      box-shadow: 0px 1px 3px 1px rgba(0, 0, 0, 0.15);\n",
              "      filter: drop-shadow(0px 1px 2px rgba(0, 0, 0, 0.3));\n",
              "      fill: #FFFFFF;\n",
              "    }\n",
              "  </style>\n",
              "\n",
              "    <script>\n",
              "      const buttonEl =\n",
              "        document.querySelector('#df-beaf4269-6628-4c14-9fbd-1016f366fbb6 button.colab-df-convert');\n",
              "      buttonEl.style.display =\n",
              "        google.colab.kernel.accessAllowed ? 'block' : 'none';\n",
              "\n",
              "      async function convertToInteractive(key) {\n",
              "        const element = document.querySelector('#df-beaf4269-6628-4c14-9fbd-1016f366fbb6');\n",
              "        const dataTable =\n",
              "          await google.colab.kernel.invokeFunction('convertToInteractive',\n",
              "                                                    [key], {});\n",
              "        if (!dataTable) return;\n",
              "\n",
              "        const docLinkHtml = 'Like what you see? Visit the ' +\n",
              "          '<a target=\"_blank\" href=https://colab.research.google.com/notebooks/data_table.ipynb>data table notebook</a>'\n",
              "          + ' to learn more about interactive tables.';\n",
              "        element.innerHTML = '';\n",
              "        dataTable['output_type'] = 'display_data';\n",
              "        await google.colab.output.renderOutput(dataTable, element);\n",
              "        const docLink = document.createElement('div');\n",
              "        docLink.innerHTML = docLinkHtml;\n",
              "        element.appendChild(docLink);\n",
              "      }\n",
              "    </script>\n",
              "  </div>\n",
              "\n",
              "\n",
              "<div id=\"df-ae63eb33-f7f0-45cc-a055-2c93d589fd80\">\n",
              "  <button class=\"colab-df-quickchart\" onclick=\"quickchart('df-ae63eb33-f7f0-45cc-a055-2c93d589fd80')\"\n",
              "            title=\"Suggest charts.\"\n",
              "            style=\"display:none;\">\n",
              "\n",
              "<svg xmlns=\"http://www.w3.org/2000/svg\" height=\"24px\"viewBox=\"0 0 24 24\"\n",
              "     width=\"24px\">\n",
              "    <g>\n",
              "        <path d=\"M19 3H5c-1.1 0-2 .9-2 2v14c0 1.1.9 2 2 2h14c1.1 0 2-.9 2-2V5c0-1.1-.9-2-2-2zM9 17H7v-7h2v7zm4 0h-2V7h2v10zm4 0h-2v-4h2v4z\"/>\n",
              "    </g>\n",
              "</svg>\n",
              "  </button>\n",
              "\n",
              "<style>\n",
              "  .colab-df-quickchart {\n",
              "      --bg-color: #E8F0FE;\n",
              "      --fill-color: #1967D2;\n",
              "      --hover-bg-color: #E2EBFA;\n",
              "      --hover-fill-color: #174EA6;\n",
              "      --disabled-fill-color: #AAA;\n",
              "      --disabled-bg-color: #DDD;\n",
              "  }\n",
              "\n",
              "  [theme=dark] .colab-df-quickchart {\n",
              "      --bg-color: #3B4455;\n",
              "      --fill-color: #D2E3FC;\n",
              "      --hover-bg-color: #434B5C;\n",
              "      --hover-fill-color: #FFFFFF;\n",
              "      --disabled-bg-color: #3B4455;\n",
              "      --disabled-fill-color: #666;\n",
              "  }\n",
              "\n",
              "  .colab-df-quickchart {\n",
              "    background-color: var(--bg-color);\n",
              "    border: none;\n",
              "    border-radius: 50%;\n",
              "    cursor: pointer;\n",
              "    display: none;\n",
              "    fill: var(--fill-color);\n",
              "    height: 32px;\n",
              "    padding: 0;\n",
              "    width: 32px;\n",
              "  }\n",
              "\n",
              "  .colab-df-quickchart:hover {\n",
              "    background-color: var(--hover-bg-color);\n",
              "    box-shadow: 0 1px 2px rgba(60, 64, 67, 0.3), 0 1px 3px 1px rgba(60, 64, 67, 0.15);\n",
              "    fill: var(--button-hover-fill-color);\n",
              "  }\n",
              "\n",
              "  .colab-df-quickchart-complete:disabled,\n",
              "  .colab-df-quickchart-complete:disabled:hover {\n",
              "    background-color: var(--disabled-bg-color);\n",
              "    fill: var(--disabled-fill-color);\n",
              "    box-shadow: none;\n",
              "  }\n",
              "\n",
              "  .colab-df-spinner {\n",
              "    border: 2px solid var(--fill-color);\n",
              "    border-color: transparent;\n",
              "    border-bottom-color: var(--fill-color);\n",
              "    animation:\n",
              "      spin 1s steps(1) infinite;\n",
              "  }\n",
              "\n",
              "  @keyframes spin {\n",
              "    0% {\n",
              "      border-color: transparent;\n",
              "      border-bottom-color: var(--fill-color);\n",
              "      border-left-color: var(--fill-color);\n",
              "    }\n",
              "    20% {\n",
              "      border-color: transparent;\n",
              "      border-left-color: var(--fill-color);\n",
              "      border-top-color: var(--fill-color);\n",
              "    }\n",
              "    30% {\n",
              "      border-color: transparent;\n",
              "      border-left-color: var(--fill-color);\n",
              "      border-top-color: var(--fill-color);\n",
              "      border-right-color: var(--fill-color);\n",
              "    }\n",
              "    40% {\n",
              "      border-color: transparent;\n",
              "      border-right-color: var(--fill-color);\n",
              "      border-top-color: var(--fill-color);\n",
              "    }\n",
              "    60% {\n",
              "      border-color: transparent;\n",
              "      border-right-color: var(--fill-color);\n",
              "    }\n",
              "    80% {\n",
              "      border-color: transparent;\n",
              "      border-right-color: var(--fill-color);\n",
              "      border-bottom-color: var(--fill-color);\n",
              "    }\n",
              "    90% {\n",
              "      border-color: transparent;\n",
              "      border-bottom-color: var(--fill-color);\n",
              "    }\n",
              "  }\n",
              "</style>\n",
              "\n",
              "  <script>\n",
              "    async function quickchart(key) {\n",
              "      const quickchartButtonEl =\n",
              "        document.querySelector('#' + key + ' button');\n",
              "      quickchartButtonEl.disabled = true;  // To prevent multiple clicks.\n",
              "      quickchartButtonEl.classList.add('colab-df-spinner');\n",
              "      try {\n",
              "        const charts = await google.colab.kernel.invokeFunction(\n",
              "            'suggestCharts', [key], {});\n",
              "      } catch (error) {\n",
              "        console.error('Error during call to suggestCharts:', error);\n",
              "      }\n",
              "      quickchartButtonEl.classList.remove('colab-df-spinner');\n",
              "      quickchartButtonEl.classList.add('colab-df-quickchart-complete');\n",
              "    }\n",
              "    (() => {\n",
              "      let quickchartButtonEl =\n",
              "        document.querySelector('#df-ae63eb33-f7f0-45cc-a055-2c93d589fd80 button');\n",
              "      quickchartButtonEl.style.display =\n",
              "        google.colab.kernel.accessAllowed ? 'block' : 'none';\n",
              "    })();\n",
              "  </script>\n",
              "</div>\n",
              "    </div>\n",
              "  </div>\n"
            ]
          },
          "metadata": {},
          "execution_count": 5
        }
      ],
      "source": [
        "dataset.tail()"
      ]
    },
    {
      "cell_type": "code",
      "execution_count": null,
      "metadata": {
        "colab": {
          "base_uri": "https://localhost:8080/"
        },
        "id": "WeNIGpsyvBJG",
        "outputId": "ac1517de-8024-41c0-92f8-4006de9adaae"
      },
      "outputs": [
        {
          "output_type": "stream",
          "name": "stdout",
          "text": [
            "<class 'pandas.core.frame.DataFrame'>\n",
            "RangeIndex: 293 entries, 0 to 292\n",
            "Data columns (total 7 columns):\n",
            " #   Column               Non-Null Count  Dtype  \n",
            "---  ------               --------------  -----  \n",
            " 0   laranja_camisa_bart  293 non-null    float64\n",
            " 1   azul_calcao_bart     293 non-null    float64\n",
            " 2   azul_sapato_bart     293 non-null    float64\n",
            " 3   marrom_boca_homer    293 non-null    float64\n",
            " 4   azul_calca_homer     293 non-null    float64\n",
            " 5   cinza_sapato_homer   293 non-null    float64\n",
            " 6   classe               293 non-null    object \n",
            "dtypes: float64(6), object(1)\n",
            "memory usage: 16.1+ KB\n"
          ]
        }
      ],
      "source": [
        "dataset.info()"
      ]
    },
    {
      "cell_type": "code",
      "execution_count": null,
      "metadata": {
        "colab": {
          "base_uri": "https://localhost:8080/"
        },
        "id": "NJarLmKevhXO",
        "outputId": "27ee053b-b753-4b19-c08d-776a0b2761b9"
      },
      "outputs": [
        {
          "output_type": "execute_result",
          "data": {
            "text/plain": [
              "laranja_camisa_bart    0\n",
              "azul_calcao_bart       0\n",
              "azul_sapato_bart       0\n",
              "marrom_boca_homer      0\n",
              "azul_calca_homer       0\n",
              "cinza_sapato_homer     0\n",
              "classe                 0\n",
              "dtype: int64"
            ]
          },
          "metadata": {},
          "execution_count": 7
        }
      ],
      "source": [
        "dataset.isnull().sum()"
      ]
    },
    {
      "cell_type": "code",
      "execution_count": null,
      "metadata": {
        "colab": {
          "base_uri": "https://localhost:8080/",
          "height": 466
        },
        "id": "QcMs-X3Xp1AK",
        "outputId": "af4618d6-152b-4af2-c85d-1ecc85459914"
      },
      "outputs": [
        {
          "output_type": "execute_result",
          "data": {
            "text/plain": [
              "<Axes: xlabel='classe', ylabel='count'>"
            ]
          },
          "metadata": {},
          "execution_count": 8
        },
        {
          "output_type": "display_data",
          "data": {
            "text/plain": [
              "<Figure size 640x480 with 1 Axes>"
            ],
            "image/png": "[encoded data removed]"
          },
          "metadata": {}
        }
      ],
      "source": [
        "sns.countplot(x = 'classe', data=dataset)"
      ]
    },
    {
      "cell_type": "code",
      "execution_count": null,
      "metadata": {
        "colab": {
          "base_uri": "https://localhost:8080/",
          "height": 641
        },
        "id": "2W-XtZVWuDP_",
        "outputId": "b4c92057-7687-4a44-cc05-e6e270db3918"
      },
      "outputs": [
        {
          "output_type": "stream",
          "name": "stderr",
          "text": [
            "<ipython-input-9-c0a1ca8ade7e>:1: FutureWarning: The default value of numeric_only in DataFrame.corr is deprecated. In a future version, it will default to False. Select only valid columns or specify the value of numeric_only to silence this warning.\n",
            "  sns.heatmap(dataset.corr(), annot=True)\n"
          ]
        },
        {
          "output_type": "execute_result",
          "data": {
            "text/plain": [
              "<Axes: >"
            ]
          },
          "metadata": {},
          "execution_count": 9
        },
        {
          "output_type": "display_data",
          "data": {
            "text/plain": [
              "<Figure size 640x480 with 2 Axes>"
            ],
            "image/png": "[encoded data removed]"
          },
          "metadata": {}
        }
      ],
      "source": [
        "sns.heatmap(dataset.corr(), annot=True)"
      ]
    },
    {
      "cell_type": "code",
      "execution_count": null,
      "metadata": {
        "id": "EZ6HSL5IvTFS"
      },
      "outputs": [],
      "source": [
        "x = dataset.iloc[:, 0:6].values"
      ]
    },
    {
      "cell_type": "code",
      "source": [
        "y = dataset.iloc[:,6].values\n",
        "y"
      ],
      "metadata": {
        "colab": {
          "base_uri": "https://localhost:8080/"
        },
        "id": "q-u43Tuyty2E",
        "outputId": "bfc0c39b-3934-46c1-eff8-76841422f1b3"
      },
      "execution_count": null,
      "outputs": [
        {
          "output_type": "execute_result",
          "data": {
            "text/plain": [
              "array(['Bart', 'Bart', 'Bart', 'Bart', 'Bart', 'Bart', 'Bart', 'Bart',\n",
              "       'Bart', 'Bart', 'Bart', 'Bart', 'Bart', 'Bart', 'Bart', 'Bart',\n",
              "       'Bart', 'Bart', 'Bart', 'Bart', 'Bart', 'Bart', 'Bart', 'Bart',\n",
              "       'Bart', 'Bart', 'Bart', 'Bart', 'Bart', 'Bart', 'Bart', 'Bart',\n",
              "       'Bart', 'Bart', 'Bart', 'Bart', 'Bart', 'Bart', 'Bart', 'Bart',\n",
              "       'Bart', 'Bart', 'Bart', 'Bart', 'Bart', 'Bart', 'Bart', 'Bart',\n",
              "       'Bart', 'Bart', 'Bart', 'Bart', 'Bart', 'Bart', 'Bart', 'Bart',\n",
              "       'Bart', 'Bart', 'Bart', 'Bart', 'Bart', 'Bart', 'Bart', 'Bart',\n",
              "       'Bart', 'Bart', 'Bart', 'Bart', 'Bart', 'Bart', 'Bart', 'Bart',\n",
              "       'Bart', 'Bart', 'Bart', 'Bart', 'Bart', 'Bart', 'Bart', 'Bart',\n",
              "       'Bart', 'Bart', 'Bart', 'Bart', 'Bart', 'Bart', 'Bart', 'Bart',\n",
              "       'Bart', 'Bart', 'Bart', 'Bart', 'Bart', 'Bart', 'Bart', 'Bart',\n",
              "       'Bart', 'Bart', 'Bart', 'Bart', 'Bart', 'Bart', 'Bart', 'Bart',\n",
              "       'Bart', 'Bart', 'Bart', 'Bart', 'Bart', 'Bart', 'Bart', 'Bart',\n",
              "       'Bart', 'Bart', 'Bart', 'Bart', 'Bart', 'Bart', 'Bart', 'Bart',\n",
              "       'Bart', 'Bart', 'Bart', 'Bart', 'Bart', 'Bart', 'Bart', 'Bart',\n",
              "       'Bart', 'Bart', 'Bart', 'Bart', 'Bart', 'Bart', 'Bart', 'Bart',\n",
              "       'Bart', 'Bart', 'Bart', 'Bart', 'Bart', 'Bart', 'Bart', 'Bart',\n",
              "       'Bart', 'Bart', 'Bart', 'Bart', 'Bart', 'Bart', 'Bart', 'Bart',\n",
              "       'Bart', 'Bart', 'Bart', 'Bart', 'Bart', 'Bart', 'Bart', 'Bart',\n",
              "       'Bart', 'Bart', 'Bart', 'Bart', 'Bart', 'Bart', 'Bart', 'Bart',\n",
              "       'Bart', 'Homer', 'Homer', 'Homer', 'Homer', 'Homer', 'Homer',\n",
              "       'Homer', 'Homer', 'Homer', 'Homer', 'Homer', 'Homer', 'Homer',\n",
              "       'Homer', 'Homer', 'Homer', 'Homer', 'Homer', 'Homer', 'Homer',\n",
              "       'Homer', 'Homer', 'Homer', 'Homer', 'Homer', 'Homer', 'Homer',\n",
              "       'Homer', 'Homer', 'Homer', 'Homer', 'Homer', 'Homer', 'Homer',\n",
              "       'Homer', 'Homer', 'Homer', 'Homer', 'Homer', 'Homer', 'Homer',\n",
              "       'Homer', 'Homer', 'Homer', 'Homer', 'Homer', 'Homer', 'Homer',\n",
              "       'Homer', 'Homer', 'Homer', 'Homer', 'Homer', 'Homer', 'Homer',\n",
              "       'Homer', 'Homer', 'Homer', 'Homer', 'Homer', 'Homer', 'Homer',\n",
              "       'Homer', 'Homer', 'Homer', 'Homer', 'Homer', 'Homer', 'Homer',\n",
              "       'Homer', 'Homer', 'Homer', 'Homer', 'Homer', 'Homer', 'Homer',\n",
              "       'Homer', 'Homer', 'Homer', 'Homer', 'Homer', 'Homer', 'Homer',\n",
              "       'Homer', 'Homer', 'Homer', 'Homer', 'Homer', 'Homer', 'Homer',\n",
              "       'Homer', 'Homer', 'Homer', 'Homer', 'Homer', 'Homer', 'Homer',\n",
              "       'Homer', 'Homer', 'Homer', 'Homer', 'Homer', 'Homer', 'Homer',\n",
              "       'Homer', 'Homer', 'Homer', 'Homer', 'Homer', 'Homer', 'Homer',\n",
              "       'Homer', 'Homer', 'Homer', 'Homer', 'Homer', 'Homer', 'Homer',\n",
              "       'Homer', 'Homer', 'Homer', 'Homer', 'Homer', 'Homer'], dtype=object)"
            ]
          },
          "metadata": {},
          "execution_count": 12
        }
      ]
    },
    {
      "cell_type": "code",
      "source": [
        "y = (y == 'Bart')\n",
        "y"
      ],
      "metadata": {
        "colab": {
          "base_uri": "https://localhost:8080/"
        },
        "id": "AU1EEmesxhMw",
        "outputId": "a8877e7a-88f3-40e6-c732-c65d8d8edea9"
      },
      "execution_count": null,
      "outputs": [
        {
          "output_type": "execute_result",
          "data": {
            "text/plain": [
              "array([ True,  True,  True,  True,  True,  True,  True,  True,  True,\n",
              "        True,  True,  True,  True,  True,  True,  True,  True,  True,\n",
              "        True,  True,  True,  True,  True,  True,  True,  True,  True,\n",
              "        True,  True,  True,  True,  True,  True,  True,  True,  True,\n",
              "        True,  True,  True,  True,  True,  True,  True,  True,  True,\n",
              "        True,  True,  True,  True,  True,  True,  True,  True,  True,\n",
              "        True,  True,  True,  True,  True,  True,  True,  True,  True,\n",
              "        True,  True,  True,  True,  True,  True,  True,  True,  True,\n",
              "        True,  True,  True,  True,  True,  True,  True,  True,  True,\n",
              "        True,  True,  True,  True,  True,  True,  True,  True,  True,\n",
              "        True,  True,  True,  True,  True,  True,  True,  True,  True,\n",
              "        True,  True,  True,  True,  True,  True,  True,  True,  True,\n",
              "        True,  True,  True,  True,  True,  True,  True,  True,  True,\n",
              "        True,  True,  True,  True,  True,  True,  True,  True,  True,\n",
              "        True,  True,  True,  True,  True,  True,  True,  True,  True,\n",
              "        True,  True,  True,  True,  True,  True,  True,  True,  True,\n",
              "        True,  True,  True,  True,  True,  True,  True,  True,  True,\n",
              "        True,  True,  True,  True,  True,  True,  True,  True,  True,\n",
              "        True,  True,  True,  True,  True,  True,  True, False, False,\n",
              "       False, False, False, False, False, False, False, False, False,\n",
              "       False, False, False, False, False, False, False, False, False,\n",
              "       False, False, False, False, False, False, False, False, False,\n",
              "       False, False, False, False, False, False, False, False, False,\n",
              "       False, False, False, False, False, False, False, False, False,\n",
              "       False, False, False, False, False, False, False, False, False,\n",
              "       False, False, False, False, False, False, False, False, False,\n",
              "       False, False, False, False, False, False, False, False, False,\n",
              "       False, False, False, False, False, False, False, False, False,\n",
              "       False, False, False, False, False, False, False, False, False,\n",
              "       False, False, False, False, False, False, False, False, False,\n",
              "       False, False, False, False, False, False, False, False, False,\n",
              "       False, False, False, False, False, False, False, False, False,\n",
              "       False, False, False, False, False])"
            ]
          },
          "metadata": {},
          "execution_count": 13
        }
      ]
    },
    {
      "cell_type": "code",
      "source": [
        "from sklearn.model_selection import train_test_split\n",
        "x_train, X_test, y_train, y_test = train_test_split(x, y, test_size = 0.2)"
      ],
      "metadata": {
        "id": "eV_bgE6x86g0"
      },
      "execution_count": null,
      "outputs": []
    },
    {
      "cell_type": "markdown",
      "source": [
        "# **Criando a rede neural para teste**"
      ],
      "metadata": {
        "id": "pQrAIITJx4Cq"
      }
    },
    {
      "cell_type": "code",
      "source": [
        "rede_neural = tf.keras.models.Sequential()\n",
        "rede_neural.add(tf.keras.layers.Dense(units=4, activation='relu', input_shape=(6,)))\n",
        "rede_neural.add(tf.keras.layers.Dense(units=4, activation='relu'))\n",
        "rede_neural.add(tf.keras.layers.Dense(units=4, activation='relu'))\n",
        "rede_neural.add(tf.keras.layers.Dense(units=1, activation='sigmoid'))"
      ],
      "metadata": {
        "id": "mRCqks3OyM1f"
      },
      "execution_count": null,
      "outputs": []
    },
    {
      "cell_type": "code",
      "source": [
        "rede_neural.summary()"
      ],
      "metadata": {
        "colab": {
          "base_uri": "https://localhost:8080/"
        },
        "id": "VkPbzzG24JGQ",
        "outputId": "7188036f-0868-4fe5-dac8-6ef7b5774bc1"
      },
      "execution_count": null,
      "outputs": [
        {
          "output_type": "stream",
          "name": "stdout",
          "text": [
            "Model: \"sequential\"\n",
            "_________________________________________________________________\n",
            " Layer (type)                Output Shape              Param #   \n",
            "=================================================================\n",
            " dense (Dense)               (None, 4)                 28        \n",
            "                                                                 \n",
            " dense_1 (Dense)             (None, 4)                 20        \n",
            "                                                                 \n",
            " dense_2 (Dense)             (None, 4)                 20        \n",
            "                                                                 \n",
            " dense_3 (Dense)             (None, 1)                 5         \n",
            "                                                                 \n",
            "=================================================================\n",
            "Total params: 73 (292.00 Byte)\n",
            "Trainable params: 73 (292.00 Byte)\n",
            "Non-trainable params: 0 (0.00 Byte)\n",
            "_________________________________________________________________\n"
          ]
        }
      ]
    },
    {
      "cell_type": "code",
      "source": [
        "rede_neural.compile(optimizer='Adam', loss='binary_crossentropy', metrics=  ['accuracy'])"
      ],
      "metadata": {
        "id": "TuUVtQZd442E"
      },
      "execution_count": null,
      "outputs": []
    },
    {
      "cell_type": "markdown",
      "source": [],
      "metadata": {
        "id": "cHKkv4XtuAAo"
      }
    },
    {
      "cell_type": "code",
      "source": [
        "historico = rede_neural.fit(x_train, y_train, epochs=100, validation_split=0.2)"
      ],
      "metadata": {
        "id": "up_wVEaI6XNv",
        "colab": {
          "base_uri": "https://localhost:8080/"
        },
        "outputId": "c7003ef9-525f-4c67-e907-d3694eebb605"
      },
      "execution_count": null,
      "outputs": [
        {
          "output_type": "stream",
          "name": "stdout",
          "text": [
            "Epoch 1/100\n",
            "6/6 [==============================] - 0s 22ms/step - loss: 0.2962 - accuracy: 0.8824 - val_loss: 0.2504 - val_accuracy: 0.9574\n",
            "Epoch 2/100\n",
            "6/6 [==============================] - 0s 12ms/step - loss: 0.2943 - accuracy: 0.8770 - val_loss: 0.2485 - val_accuracy: 0.9574\n",
            "Epoch 3/100\n",
            "6/6 [==============================] - 0s 11ms/step - loss: 0.2925 - accuracy: 0.8770 - val_loss: 0.2465 - val_accuracy: 0.9574\n",
            "Epoch 4/100\n",
            "6/6 [==============================] - 0s 14ms/step - loss: 0.2906 - accuracy: 0.8770 - val_loss: 0.2447 - val_accuracy: 0.9574\n",
            "Epoch 5/100\n",
            "6/6 [==============================] - 0s 11ms/step - loss: 0.2889 - accuracy: 0.8770 - val_loss: 0.2429 - val_accuracy: 0.9574\n",
            "Epoch 6/100\n",
            "6/6 [==============================] - 0s 11ms/step - loss: 0.2871 - accuracy: 0.8770 - val_loss: 0.2409 - val_accuracy: 0.9574\n",
            "Epoch 7/100\n",
            "6/6 [==============================] - 0s 15ms/step - loss: 0.2853 - accuracy: 0.8824 - val_loss: 0.2393 - val_accuracy: 0.9574\n",
            "Epoch 8/100\n",
            "6/6 [==============================] - 0s 11ms/step - loss: 0.2837 - accuracy: 0.8824 - val_loss: 0.2376 - val_accuracy: 0.9574\n",
            "Epoch 9/100\n",
            "6/6 [==============================] - 0s 12ms/step - loss: 0.2820 - accuracy: 0.8824 - val_loss: 0.2358 - val_accuracy: 0.9574\n",
            "Epoch 10/100\n",
            "6/6 [==============================] - 0s 12ms/step - loss: 0.2804 - accuracy: 0.8824 - val_loss: 0.2343 - val_accuracy: 0.9574\n",
            "Epoch 11/100\n",
            "6/6 [==============================] - 0s 15ms/step - loss: 0.2789 - accuracy: 0.8877 - val_loss: 0.2323 - val_accuracy: 0.9574\n",
            "Epoch 12/100\n",
            "6/6 [==============================] - 0s 12ms/step - loss: 0.2774 - accuracy: 0.8877 - val_loss: 0.2310 - val_accuracy: 0.9574\n",
            "Epoch 13/100\n",
            "6/6 [==============================] - 0s 14ms/step - loss: 0.2757 - accuracy: 0.8930 - val_loss: 0.2295 - val_accuracy: 0.9574\n",
            "Epoch 14/100\n",
            "6/6 [==============================] - 0s 15ms/step - loss: 0.2742 - accuracy: 0.8930 - val_loss: 0.2278 - val_accuracy: 0.9574\n",
            "Epoch 15/100\n",
            "6/6 [==============================] - 0s 12ms/step - loss: 0.2727 - accuracy: 0.8930 - val_loss: 0.2259 - val_accuracy: 0.9574\n",
            "Epoch 16/100\n",
            "6/6 [==============================] - 0s 11ms/step - loss: 0.2716 - accuracy: 0.8930 - val_loss: 0.2247 - val_accuracy: 0.9574\n",
            "Epoch 17/100\n",
            "6/6 [==============================] - 0s 16ms/step - loss: 0.2697 - accuracy: 0.8930 - val_loss: 0.2229 - val_accuracy: 0.9574\n",
            "Epoch 18/100\n",
            "6/6 [==============================] - 0s 15ms/step - loss: 0.2683 - accuracy: 0.8930 - val_loss: 0.2212 - val_accuracy: 0.9574\n",
            "Epoch 19/100\n",
            "6/6 [==============================] - 0s 13ms/step - loss: 0.2669 - accuracy: 0.8930 - val_loss: 0.2197 - val_accuracy: 0.9574\n",
            "Epoch 20/100\n",
            "6/6 [==============================] - 0s 17ms/step - loss: 0.2657 - accuracy: 0.8930 - val_loss: 0.2178 - val_accuracy: 0.9574\n",
            "Epoch 21/100\n",
            "6/6 [==============================] - 0s 10ms/step - loss: 0.2642 - accuracy: 0.8877 - val_loss: 0.2166 - val_accuracy: 0.9574\n",
            "Epoch 22/100\n",
            "6/6 [==============================] - 0s 14ms/step - loss: 0.2629 - accuracy: 0.8877 - val_loss: 0.2150 - val_accuracy: 0.9574\n",
            "Epoch 23/100\n",
            "6/6 [==============================] - 0s 15ms/step - loss: 0.2617 - accuracy: 0.8930 - val_loss: 0.2136 - val_accuracy: 0.9574\n",
            "Epoch 24/100\n",
            "6/6 [==============================] - 0s 13ms/step - loss: 0.2604 - accuracy: 0.8930 - val_loss: 0.2125 - val_accuracy: 0.9574\n",
            "Epoch 25/100\n",
            "6/6 [==============================] - 0s 13ms/step - loss: 0.2591 - accuracy: 0.8930 - val_loss: 0.2110 - val_accuracy: 0.9574\n",
            "Epoch 26/100\n",
            "6/6 [==============================] - 0s 13ms/step - loss: 0.2577 - accuracy: 0.8930 - val_loss: 0.2096 - val_accuracy: 0.9574\n",
            "Epoch 27/100\n",
            "6/6 [==============================] - 0s 16ms/step - loss: 0.2567 - accuracy: 0.8984 - val_loss: 0.2086 - val_accuracy: 0.9574\n",
            "Epoch 28/100\n",
            "6/6 [==============================] - 0s 11ms/step - loss: 0.2554 - accuracy: 0.8984 - val_loss: 0.2073 - val_accuracy: 0.9574\n",
            "Epoch 29/100\n",
            "6/6 [==============================] - 0s 12ms/step - loss: 0.2542 - accuracy: 0.8984 - val_loss: 0.2062 - val_accuracy: 0.9574\n",
            "Epoch 30/100\n",
            "6/6 [==============================] - 0s 11ms/step - loss: 0.2529 - accuracy: 0.8984 - val_loss: 0.2047 - val_accuracy: 0.9574\n",
            "Epoch 31/100\n",
            "6/6 [==============================] - 0s 14ms/step - loss: 0.2516 - accuracy: 0.8984 - val_loss: 0.2033 - val_accuracy: 0.9574\n",
            "Epoch 32/100\n",
            "6/6 [==============================] - 0s 10ms/step - loss: 0.2502 - accuracy: 0.8984 - val_loss: 0.2023 - val_accuracy: 0.9574\n",
            "Epoch 33/100\n",
            "6/6 [==============================] - 0s 12ms/step - loss: 0.2485 - accuracy: 0.8984 - val_loss: 0.2010 - val_accuracy: 0.9574\n",
            "Epoch 34/100\n",
            "6/6 [==============================] - 0s 11ms/step - loss: 0.2474 - accuracy: 0.8984 - val_loss: 0.1997 - val_accuracy: 0.9574\n",
            "Epoch 35/100\n",
            "6/6 [==============================] - 0s 14ms/step - loss: 0.2461 - accuracy: 0.8984 - val_loss: 0.1984 - val_accuracy: 0.9574\n",
            "Epoch 36/100\n",
            "6/6 [==============================] - 0s 14ms/step - loss: 0.2448 - accuracy: 0.8930 - val_loss: 0.1974 - val_accuracy: 0.9574\n",
            "Epoch 37/100\n",
            "6/6 [==============================] - 0s 14ms/step - loss: 0.2438 - accuracy: 0.8930 - val_loss: 0.1964 - val_accuracy: 0.9574\n",
            "Epoch 38/100\n",
            "6/6 [==============================] - 0s 15ms/step - loss: 0.2427 - accuracy: 0.8984 - val_loss: 0.1951 - val_accuracy: 0.9574\n",
            "Epoch 39/100\n",
            "6/6 [==============================] - 0s 11ms/step - loss: 0.2416 - accuracy: 0.8930 - val_loss: 0.1941 - val_accuracy: 0.9574\n",
            "Epoch 40/100\n",
            "6/6 [==============================] - 0s 17ms/step - loss: 0.2406 - accuracy: 0.8984 - val_loss: 0.1932 - val_accuracy: 0.9574\n",
            "Epoch 41/100\n",
            "6/6 [==============================] - 0s 16ms/step - loss: 0.2397 - accuracy: 0.8984 - val_loss: 0.1921 - val_accuracy: 0.9574\n",
            "Epoch 42/100\n",
            "6/6 [==============================] - 0s 11ms/step - loss: 0.2387 - accuracy: 0.8930 - val_loss: 0.1912 - val_accuracy: 0.9574\n",
            "Epoch 43/100\n",
            "6/6 [==============================] - 0s 16ms/step - loss: 0.2378 - accuracy: 0.8984 - val_loss: 0.1902 - val_accuracy: 0.9574\n",
            "Epoch 44/100\n",
            "6/6 [==============================] - 0s 15ms/step - loss: 0.2369 - accuracy: 0.8984 - val_loss: 0.1892 - val_accuracy: 0.9574\n",
            "Epoch 45/100\n",
            "6/6 [==============================] - 0s 14ms/step - loss: 0.2359 - accuracy: 0.8984 - val_loss: 0.1881 - val_accuracy: 0.9574\n",
            "Epoch 46/100\n",
            "6/6 [==============================] - 0s 11ms/step - loss: 0.2352 - accuracy: 0.8984 - val_loss: 0.1868 - val_accuracy: 0.9574\n",
            "Epoch 47/100\n",
            "6/6 [==============================] - 0s 10ms/step - loss: 0.2343 - accuracy: 0.8984 - val_loss: 0.1861 - val_accuracy: 0.9574\n",
            "Epoch 48/100\n",
            "6/6 [==============================] - 0s 13ms/step - loss: 0.2334 - accuracy: 0.8930 - val_loss: 0.1850 - val_accuracy: 0.9574\n",
            "Epoch 49/100\n",
            "6/6 [==============================] - 0s 14ms/step - loss: 0.2325 - accuracy: 0.8984 - val_loss: 0.1842 - val_accuracy: 0.9574\n",
            "Epoch 50/100\n",
            "6/6 [==============================] - 0s 13ms/step - loss: 0.2317 - accuracy: 0.8984 - val_loss: 0.1832 - val_accuracy: 0.9574\n",
            "Epoch 51/100\n",
            "6/6 [==============================] - 0s 10ms/step - loss: 0.2314 - accuracy: 0.8984 - val_loss: 0.1828 - val_accuracy: 0.9574\n",
            "Epoch 52/100\n",
            "6/6 [==============================] - 0s 12ms/step - loss: 0.2301 - accuracy: 0.8984 - val_loss: 0.1817 - val_accuracy: 0.9574\n",
            "Epoch 53/100\n",
            "6/6 [==============================] - 0s 9ms/step - loss: 0.2294 - accuracy: 0.8984 - val_loss: 0.1807 - val_accuracy: 0.9574\n",
            "Epoch 54/100\n",
            "6/6 [==============================] - 0s 9ms/step - loss: 0.2286 - accuracy: 0.8984 - val_loss: 0.1797 - val_accuracy: 0.9574\n",
            "Epoch 55/100\n",
            "6/6 [==============================] - 0s 13ms/step - loss: 0.2278 - accuracy: 0.8984 - val_loss: 0.1789 - val_accuracy: 0.9574\n",
            "Epoch 56/100\n",
            "6/6 [==============================] - 0s 10ms/step - loss: 0.2271 - accuracy: 0.9037 - val_loss: 0.1781 - val_accuracy: 0.9574\n",
            "Epoch 57/100\n",
            "6/6 [==============================] - 0s 13ms/step - loss: 0.2263 - accuracy: 0.9037 - val_loss: 0.1774 - val_accuracy: 0.9574\n",
            "Epoch 58/100\n",
            "6/6 [==============================] - 0s 10ms/step - loss: 0.2257 - accuracy: 0.9091 - val_loss: 0.1767 - val_accuracy: 0.9574\n",
            "Epoch 59/100\n",
            "6/6 [==============================] - 0s 13ms/step - loss: 0.2250 - accuracy: 0.9037 - val_loss: 0.1756 - val_accuracy: 0.9574\n",
            "Epoch 60/100\n",
            "6/6 [==============================] - 0s 12ms/step - loss: 0.2243 - accuracy: 0.9037 - val_loss: 0.1751 - val_accuracy: 0.9574\n",
            "Epoch 61/100\n",
            "6/6 [==============================] - 0s 13ms/step - loss: 0.2238 - accuracy: 0.9091 - val_loss: 0.1747 - val_accuracy: 0.9574\n",
            "Epoch 62/100\n",
            "6/6 [==============================] - 0s 10ms/step - loss: 0.2232 - accuracy: 0.9144 - val_loss: 0.1732 - val_accuracy: 0.9574\n",
            "Epoch 63/100\n",
            "6/6 [==============================] - 0s 10ms/step - loss: 0.2222 - accuracy: 0.9037 - val_loss: 0.1724 - val_accuracy: 0.9574\n",
            "Epoch 64/100\n",
            "6/6 [==============================] - 0s 10ms/step - loss: 0.2216 - accuracy: 0.9037 - val_loss: 0.1719 - val_accuracy: 0.9574\n",
            "Epoch 65/100\n",
            "6/6 [==============================] - 0s 16ms/step - loss: 0.2211 - accuracy: 0.9037 - val_loss: 0.1707 - val_accuracy: 0.9574\n",
            "Epoch 66/100\n",
            "6/6 [==============================] - 0s 16ms/step - loss: 0.2204 - accuracy: 0.9037 - val_loss: 0.1704 - val_accuracy: 0.9574\n",
            "Epoch 67/100\n",
            "6/6 [==============================] - 0s 17ms/step - loss: 0.2197 - accuracy: 0.9091 - val_loss: 0.1698 - val_accuracy: 0.9574\n",
            "Epoch 68/100\n",
            "6/6 [==============================] - 0s 14ms/step - loss: 0.2191 - accuracy: 0.9144 - val_loss: 0.1692 - val_accuracy: 0.9574\n",
            "Epoch 69/100\n",
            "6/6 [==============================] - 0s 13ms/step - loss: 0.2184 - accuracy: 0.9091 - val_loss: 0.1681 - val_accuracy: 0.9574\n",
            "Epoch 70/100\n",
            "6/6 [==============================] - 0s 17ms/step - loss: 0.2178 - accuracy: 0.9091 - val_loss: 0.1672 - val_accuracy: 0.9574\n",
            "Epoch 71/100\n",
            "6/6 [==============================] - 0s 18ms/step - loss: 0.2173 - accuracy: 0.9037 - val_loss: 0.1668 - val_accuracy: 0.9574\n",
            "Epoch 72/100\n",
            "6/6 [==============================] - 0s 19ms/step - loss: 0.2167 - accuracy: 0.9144 - val_loss: 0.1662 - val_accuracy: 0.9574\n",
            "Epoch 73/100\n",
            "6/6 [==============================] - 0s 22ms/step - loss: 0.2160 - accuracy: 0.9144 - val_loss: 0.1653 - val_accuracy: 0.9574\n",
            "Epoch 74/100\n",
            "6/6 [==============================] - 0s 18ms/step - loss: 0.2155 - accuracy: 0.9037 - val_loss: 0.1647 - val_accuracy: 0.9574\n",
            "Epoch 75/100\n",
            "6/6 [==============================] - 0s 21ms/step - loss: 0.2150 - accuracy: 0.9037 - val_loss: 0.1639 - val_accuracy: 0.9574\n",
            "Epoch 76/100\n",
            "6/6 [==============================] - 0s 17ms/step - loss: 0.2144 - accuracy: 0.9091 - val_loss: 0.1633 - val_accuracy: 0.9574\n",
            "Epoch 77/100\n",
            "6/6 [==============================] - 0s 18ms/step - loss: 0.2139 - accuracy: 0.9144 - val_loss: 0.1628 - val_accuracy: 0.9574\n",
            "Epoch 78/100\n",
            "6/6 [==============================] - 0s 21ms/step - loss: 0.2135 - accuracy: 0.9037 - val_loss: 0.1619 - val_accuracy: 0.9574\n",
            "Epoch 79/100\n",
            "6/6 [==============================] - 0s 19ms/step - loss: 0.2131 - accuracy: 0.9144 - val_loss: 0.1619 - val_accuracy: 0.9574\n",
            "Epoch 80/100\n",
            "6/6 [==============================] - 0s 15ms/step - loss: 0.2123 - accuracy: 0.9144 - val_loss: 0.1610 - val_accuracy: 0.9574\n",
            "Epoch 81/100\n",
            "6/6 [==============================] - 0s 18ms/step - loss: 0.2118 - accuracy: 0.9144 - val_loss: 0.1605 - val_accuracy: 0.9574\n",
            "Epoch 82/100\n",
            "6/6 [==============================] - 0s 18ms/step - loss: 0.2114 - accuracy: 0.9091 - val_loss: 0.1596 - val_accuracy: 0.9574\n",
            "Epoch 83/100\n",
            "6/6 [==============================] - 0s 15ms/step - loss: 0.2111 - accuracy: 0.9091 - val_loss: 0.1597 - val_accuracy: 0.9574\n",
            "Epoch 84/100\n",
            "6/6 [==============================] - 0s 17ms/step - loss: 0.2103 - accuracy: 0.9144 - val_loss: 0.1588 - val_accuracy: 0.9574\n",
            "Epoch 85/100\n",
            "6/6 [==============================] - 0s 15ms/step - loss: 0.2099 - accuracy: 0.9144 - val_loss: 0.1586 - val_accuracy: 0.9574\n",
            "Epoch 86/100\n",
            "6/6 [==============================] - 0s 18ms/step - loss: 0.2093 - accuracy: 0.9144 - val_loss: 0.1578 - val_accuracy: 0.9574\n",
            "Epoch 87/100\n",
            "6/6 [==============================] - 0s 21ms/step - loss: 0.2090 - accuracy: 0.9144 - val_loss: 0.1572 - val_accuracy: 0.9574\n",
            "Epoch 88/100\n",
            "6/6 [==============================] - 0s 19ms/step - loss: 0.2085 - accuracy: 0.9144 - val_loss: 0.1564 - val_accuracy: 0.9574\n",
            "Epoch 89/100\n",
            "6/6 [==============================] - 0s 20ms/step - loss: 0.2079 - accuracy: 0.9144 - val_loss: 0.1560 - val_accuracy: 0.9574\n",
            "Epoch 90/100\n",
            "6/6 [==============================] - 0s 17ms/step - loss: 0.2076 - accuracy: 0.9144 - val_loss: 0.1559 - val_accuracy: 0.9574\n",
            "Epoch 91/100\n",
            "6/6 [==============================] - 0s 15ms/step - loss: 0.2070 - accuracy: 0.9144 - val_loss: 0.1555 - val_accuracy: 0.9574\n",
            "Epoch 92/100\n",
            "6/6 [==============================] - 0s 21ms/step - loss: 0.2066 - accuracy: 0.9144 - val_loss: 0.1547 - val_accuracy: 0.9574\n",
            "Epoch 93/100\n",
            "6/6 [==============================] - 0s 19ms/step - loss: 0.2063 - accuracy: 0.9144 - val_loss: 0.1544 - val_accuracy: 0.9574\n",
            "Epoch 94/100\n",
            "6/6 [==============================] - 0s 21ms/step - loss: 0.2058 - accuracy: 0.9144 - val_loss: 0.1534 - val_accuracy: 0.9574\n",
            "Epoch 95/100\n",
            "6/6 [==============================] - 0s 14ms/step - loss: 0.2053 - accuracy: 0.9144 - val_loss: 0.1530 - val_accuracy: 0.9574\n",
            "Epoch 96/100\n",
            "6/6 [==============================] - 0s 15ms/step - loss: 0.2049 - accuracy: 0.9144 - val_loss: 0.1528 - val_accuracy: 0.9574\n",
            "Epoch 97/100\n",
            "6/6 [==============================] - 0s 14ms/step - loss: 0.2045 - accuracy: 0.9144 - val_loss: 0.1521 - val_accuracy: 0.9574\n",
            "Epoch 98/100\n",
            "6/6 [==============================] - 0s 14ms/step - loss: 0.2040 - accuracy: 0.9144 - val_loss: 0.1516 - val_accuracy: 0.9574\n",
            "Epoch 99/100\n",
            "6/6 [==============================] - 0s 11ms/step - loss: 0.2037 - accuracy: 0.9144 - val_loss: 0.1508 - val_accuracy: 0.9574\n",
            "Epoch 100/100\n",
            "6/6 [==============================] - 0s 14ms/step - loss: 0.2034 - accuracy: 0.9144 - val_loss: 0.1507 - val_accuracy: 0.9574\n"
          ]
        }
      ]
    },
    {
      "cell_type": "markdown",
      "source": [
        "# Avaliação  da rede neural"
      ],
      "metadata": {
        "id": "AuCahrPQxOb4"
      }
    },
    {
      "cell_type": "code",
      "source": [
        "historico.history.keys()"
      ],
      "metadata": {
        "colab": {
          "base_uri": "https://localhost:8080/"
        },
        "id": "RnOdYqi-xzve",
        "outputId": "26d67eeb-a2c7-4655-a7cd-5ad1dd127563"
      },
      "execution_count": null,
      "outputs": [
        {
          "output_type": "execute_result",
          "data": {
            "text/plain": [
              "dict_keys(['loss', 'accuracy', 'val_loss', 'val_accuracy'])"
            ]
          },
          "metadata": {},
          "execution_count": 21
        }
      ]
    },
    {
      "cell_type": "code",
      "source": [
        "plt.plot(historico.history['val_loss'])"
      ],
      "metadata": {
        "colab": {
          "base_uri": "https://localhost:8080/",
          "height": 447
        },
        "id": "FJ-bIjU-yEO0",
        "outputId": "e0d89c4e-a829-4480-9996-e1328d62aa75"
      },
      "execution_count": null,
      "outputs": [
        {
          "output_type": "execute_result",
          "data": {
            "text/plain": [
              "[<matplotlib.lines.Line2D at 0x7cb784a9ad40>]"
            ]
          },
          "metadata": {},
          "execution_count": 23
        },
        {
          "output_type": "display_data",
          "data": {
            "text/plain": [
              "<Figure size 640x480 with 1 Axes>"
            ],
            "image/png": "[encoded data removed]"
          },
          "metadata": {}
        }
      ]
    },
    {
      "cell_type": "code",
      "source": [
        "plt.plot(historico.history['val_accuracy'])"
      ],
      "metadata": {
        "colab": {
          "base_uri": "https://localhost:8080/",
          "height": 447
        },
        "id": "6urvpLTgyxFx",
        "outputId": "2c9db3c8-e0d5-4688-e614-248d3c32a6bf"
      },
      "execution_count": null,
      "outputs": [
        {
          "output_type": "execute_result",
          "data": {
            "text/plain": [
              "[<matplotlib.lines.Line2D at 0x7cb784aabfa0>]"
            ]
          },
          "metadata": {},
          "execution_count": 24
        },
        {
          "output_type": "display_data",
          "data": {
            "text/plain": [
              "<Figure size 640x480 with 1 Axes>"
            ],
            "image/png": "[encoded data removed]"
          },
          "metadata": {}
        }
      ]
    },
    {
      "cell_type": "code",
      "source": [
        "previsões = rede_neural.predict(X_test)\n",
        "previsões"
      ],
      "metadata": {
        "colab": {
          "base_uri": "https://localhost:8080/"
        },
        "id": "iMxWAv2EzkrT",
        "outputId": "79fe9169-a39a-4f69-9a41-4213b223f2db"
      },
      "execution_count": null,
      "outputs": [
        {
          "output_type": "stream",
          "name": "stdout",
          "text": [
            "2/2 [==============================] - 0s 7ms/step\n"
          ]
        },
        {
          "output_type": "execute_result",
          "data": {
            "text/plain": [
              "array([[9.3488550e-01],\n",
              "       [9.3488550e-01],\n",
              "       [9.3488550e-01],\n",
              "       [6.2815166e-01],\n",
              "       [6.3811898e-01],\n",
              "       [9.3488550e-01],\n",
              "       [9.3488550e-01],\n",
              "       [9.3488550e-01],\n",
              "       [7.3683930e-07],\n",
              "       [9.3488550e-01],\n",
              "       [9.3488550e-01],\n",
              "       [9.3488550e-01],\n",
              "       [9.3488550e-01],\n",
              "       [1.3891522e-04],\n",
              "       [5.6245750e-01],\n",
              "       [9.3488550e-01],\n",
              "       [9.3488550e-01],\n",
              "       [8.7183480e-08],\n",
              "       [3.6763126e-05],\n",
              "       [9.3488550e-01],\n",
              "       [6.3194078e-01],\n",
              "       [9.3488550e-01],\n",
              "       [9.3488550e-01],\n",
              "       [4.4844106e-02],\n",
              "       [9.3488550e-01],\n",
              "       [2.5801003e-02],\n",
              "       [1.4214294e-06],\n",
              "       [9.3488550e-01],\n",
              "       [9.3488550e-01],\n",
              "       [8.1132661e-04],\n",
              "       [9.3488550e-01],\n",
              "       [9.3488550e-01],\n",
              "       [1.3287253e-18],\n",
              "       [9.3488550e-01],\n",
              "       [2.7597882e-03],\n",
              "       [3.5118473e-01],\n",
              "       [3.5275868e-01],\n",
              "       [7.0888156e-01],\n",
              "       [5.9585512e-01],\n",
              "       [5.7514709e-01],\n",
              "       [6.0260415e-01],\n",
              "       [9.3488550e-01],\n",
              "       [9.3488550e-01],\n",
              "       [4.4220578e-14],\n",
              "       [4.8702609e-14],\n",
              "       [9.3488550e-01],\n",
              "       [9.3488550e-01],\n",
              "       [4.4722383e-05],\n",
              "       [1.4299939e-06],\n",
              "       [9.3488550e-01],\n",
              "       [2.2306459e-03],\n",
              "       [9.3488550e-01],\n",
              "       [5.2003321e-05],\n",
              "       [9.3488550e-01],\n",
              "       [9.3488550e-01],\n",
              "       [1.9868846e-06],\n",
              "       [9.3488550e-01],\n",
              "       [3.7441161e-01],\n",
              "       [5.8736563e-01]], dtype=float32)"
            ]
          },
          "metadata": {},
          "execution_count": 25
        }
      ]
    },
    {
      "cell_type": "code",
      "source": [
        "previsões = (previsões > 0.5)\n",
        "previsões"
      ],
      "metadata": {
        "colab": {
          "base_uri": "https://localhost:8080/"
        },
        "id": "vruQHeEx1BtD",
        "outputId": "96f51d9a-af8b-4b5e-e6c6-ca4eac41e1d7"
      },
      "execution_count": null,
      "outputs": [
        {
          "output_type": "execute_result",
          "data": {
            "text/plain": [
              "array([[ True],\n",
              "       [ True],\n",
              "       [ True],\n",
              "       [ True],\n",
              "       [ True],\n",
              "       [ True],\n",
              "       [ True],\n",
              "       [ True],\n",
              "       [False],\n",
              "       [ True],\n",
              "       [ True],\n",
              "       [ True],\n",
              "       [ True],\n",
              "       [False],\n",
              "       [ True],\n",
              "       [ True],\n",
              "       [ True],\n",
              "       [False],\n",
              "       [False],\n",
              "       [ True],\n",
              "       [ True],\n",
              "       [ True],\n",
              "       [ True],\n",
              "       [False],\n",
              "       [ True],\n",
              "       [False],\n",
              "       [False],\n",
              "       [ True],\n",
              "       [ True],\n",
              "       [False],\n",
              "       [ True],\n",
              "       [ True],\n",
              "       [False],\n",
              "       [ True],\n",
              "       [False],\n",
              "       [False],\n",
              "       [False],\n",
              "       [ True],\n",
              "       [ True],\n",
              "       [ True],\n",
              "       [ True],\n",
              "       [ True],\n",
              "       [ True],\n",
              "       [False],\n",
              "       [False],\n",
              "       [ True],\n",
              "       [ True],\n",
              "       [False],\n",
              "       [False],\n",
              "       [ True],\n",
              "       [False],\n",
              "       [ True],\n",
              "       [False],\n",
              "       [ True],\n",
              "       [ True],\n",
              "       [False],\n",
              "       [ True],\n",
              "       [False],\n",
              "       [ True]])"
            ]
          },
          "metadata": {},
          "execution_count": 27
        }
      ]
    },
    {
      "cell_type": "code",
      "source": [
        "y_test"
      ],
      "metadata": {
        "colab": {
          "base_uri": "https://localhost:8080/"
        },
        "id": "OLDlrZy01Qcx",
        "outputId": "d8a0bda5-5fd1-46b4-bea4-1cb4aa208685"
      },
      "execution_count": null,
      "outputs": [
        {
          "output_type": "execute_result",
          "data": {
            "text/plain": [
              "array([ True,  True,  True,  True,  True,  True,  True,  True, False,\n",
              "        True,  True,  True,  True, False, False,  True,  True, False,\n",
              "       False,  True,  True,  True,  True, False,  True, False, False,\n",
              "        True,  True, False,  True,  True, False,  True, False, False,\n",
              "        True,  True, False, False,  True,  True,  True, False, False,\n",
              "        True,  True, False, False,  True, False,  True, False,  True,\n",
              "        True, False,  True,  True,  True])"
            ]
          },
          "metadata": {},
          "execution_count": 28
        }
      ]
    },
    {
      "cell_type": "markdown",
      "source": [
        "from sklearn metrics import"
      ],
      "metadata": {
        "id": "rPJKp6ee1UiQ"
      }
    },
    {
      "cell_type": "code",
      "source": [
        "from sklearn.metrics import accuracy_score\n",
        "accuracy_score(previsões, y_test)"
      ],
      "metadata": {
        "colab": {
          "base_uri": "https://localhost:8080/"
        },
        "id": "m49eC6G01d98",
        "outputId": "13a56f15-9f5e-45bb-fc0c-cdb92d76548d"
      },
      "execution_count": null,
      "outputs": [
        {
          "output_type": "execute_result",
          "data": {
            "text/plain": [
              "0.9152542372881356"
            ]
          },
          "metadata": {},
          "execution_count": 29
        }
      ]
    },
    {
      "cell_type": "code",
      "source": [
        "from sklearn.metrics import confusion_matrix\n",
        "cm = confusion_matrix(y_test, previsões)\n",
        "cm"
      ],
      "metadata": {
        "colab": {
          "base_uri": "https://localhost:8080/"
        },
        "id": "52bEnpN82qmx",
        "outputId": "ae118cf7-c155-472e-874c-fc87e77507f4"
      },
      "execution_count": null,
      "outputs": [
        {
          "output_type": "execute_result",
          "data": {
            "text/plain": [
              "array([[18,  3],\n",
              "       [ 2, 36]])"
            ]
          },
          "metadata": {},
          "execution_count": 30
        }
      ]
    },
    {
      "cell_type": "code",
      "source": [
        "sns.heatmap(cm, annot=True)\n"
      ],
      "metadata": {
        "colab": {
          "base_uri": "https://localhost:8080/",
          "height": 447
        },
        "id": "JB4oCKKo3YO4",
        "outputId": "b98086a0-16f0-462e-c409-8989b8f6b77c"
      },
      "execution_count": null,
      "outputs": [
        {
          "output_type": "execute_result",
          "data": {
            "text/plain": [
              "<Axes: >"
            ]
          },
          "metadata": {},
          "execution_count": 33
        },
        {
          "output_type": "display_data",
          "data": {
            "text/plain": [
              "<Figure size 640x480 with 2 Axes>"
            ],
            "image/png": "[encoded data removed]"
          },
          "metadata": {}
        }
      ]
    }
  ],
  "metadata": {
    "colab": {
      "provenance": []
    },
    "kernelspec": {
      "display_name": "Python 3",
      "name": "python3"
    },
    "language_info": {
      "name": "python"
    }
  },
  "nbformat": 4,
  "nbformat_minor": 0
}